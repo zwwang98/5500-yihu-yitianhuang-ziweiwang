{
 "cells": [
  {
   "cell_type": "code",
   "execution_count": 1,
   "id": "78889250",
   "metadata": {},
   "outputs": [],
   "source": [
    "import json\n",
    "import pandas as pd\n",
    "\n",
    "with open('storyline.json') as f:\n",
    "    data = json.load(f)\n",
    "data_df = pd.DataFrame(data)\n",
    "data_df['record_id'] = data_df.reset_index().iloc[:, 0] + 1"
   ]
  },
  {
   "cell_type": "code",
   "execution_count": 2,
   "id": "0aede622",
   "metadata": {},
   "outputs": [],
   "source": [
    "########### process main primary key table\n",
    "data_pk = data_df.iloc[:, [0, 3, 4, 5]]\n",
    "# print(data_pk)"
   ]
  },
  {
   "cell_type": "code",
   "execution_count": 3,
   "id": "aa13ff69",
   "metadata": {},
   "outputs": [],
   "source": [
    "# [date, summary, segments, caloriesIdle, lastUpdate, record_id]"
   ]
  },
  {
   "cell_type": "code",
   "execution_count": 4,
   "id": "06480ae5",
   "metadata": {},
   "outputs": [],
   "source": [
    "########### process summary column\n",
    "dict_summary = []\n",
    "for i in range(data_df.shape[0]):\n",
    "    cur_dict = data_df.iloc[i,1]\n",
    "    if not cur_dict or len(cur_dict) == 0:\n",
    "        continue\n",
    "    for j in range(len(cur_dict)):\n",
    "        cur_dict[j][\"record_id\"] = data_df.iloc[i,5]\n",
    "        dict_summary.append(cur_dict[j])\n",
    "data_summary = pd.DataFrame(dict_summary)\n",
    "# print(data_summary)"
   ]
  },
  {
   "cell_type": "code",
   "execution_count": 5,
   "id": "4fe4b6b9",
   "metadata": {},
   "outputs": [],
   "source": [
    "########### process segment column\n",
    "dict_segment = []\n",
    "dict_place = []\n",
    "\n",
    "for i in range(data_df.shape[0]):\n",
    "    cur_dict = data_df.iloc[i,2]\n",
    "    if not cur_dict or len(cur_dict) == 0:\n",
    "        continue\n",
    "\n",
    "    for j in range(len(cur_dict)):\n",
    "        cur_dict[j][\"record_id\"] = data_df.iloc[i,5]\n",
    "        cur_dict[j][\"segment_id\"] = j\n",
    "        \n",
    "        # create place table\n",
    "        if \"place\" in cur_dict[j]:\n",
    "            if type(cur_dict[j][\"place\"]) == dict:\n",
    "                dict_place.append(cur_dict[j][\"place\"])\n",
    "                cur_dict[j][\"place\"] = str(cur_dict[j][\"place\"]['id'])\n",
    "\n",
    "        dict_segment.append(cur_dict[j])\n",
    "        \n",
    "data_segment = pd.DataFrame(dict_segment)\n",
    "data_place = pd.DataFrame(dict_place)\n",
    "\n",
    "# print(data_segment)\n",
    "# print(data_place)"
   ]
  },
  {
   "cell_type": "code",
   "execution_count": 6,
   "id": "19a8a7b2",
   "metadata": {},
   "outputs": [],
   "source": [
    "########### process activity table\n",
    "dict_activity = []\n",
    "dict_segment_update = []\n",
    "for i in range(data_segment.shape[0]):\n",
    "    if data_segment.loc[i, \"activities\"] and type(data_segment.loc[i, \"activities\"]) != float:\n",
    "        for j in data_segment.loc[i, \"activities\"]:\n",
    "            cur_loc = len(dict_activity) + 1\n",
    "            j[\"activity_id\"] = cur_loc\n",
    "            dict_activity.append(j)\n",
    "            \n",
    "            # change activity column in segment table\n",
    "            segment_copy = data_segment.loc[i].to_dict()\n",
    "            segment_copy[\"activity_id\"] = cur_loc\n",
    "            dict_segment_update.append(segment_copy)\n",
    "            \n",
    "data_activity = pd.DataFrame(dict_activity)\n",
    "# print(data_activity)\n",
    "data_segment = pd.DataFrame(dict_segment_update)"
   ]
  },
  {
   "cell_type": "code",
   "execution_count": 7,
   "id": "e71aa595",
   "metadata": {},
   "outputs": [],
   "source": [
    "merged_segment_activity = pd.merge(data_activity, data_segment, on='activity_id')\n",
    "\n",
    "merged_segment_activity = merged_segment_activity.drop('activities', axis=1)\n",
    "merged_segment_activity = merged_segment_activity.drop('trackPoints', axis=1)"
   ]
  },
  {
   "cell_type": "code",
   "execution_count": 8,
   "id": "351a0d0e",
   "metadata": {},
   "outputs": [],
   "source": [
    "########### process place table\n",
    "data_place['lat'] = ''\n",
    "data_place['lon'] = ''\n",
    "\n",
    "for i in range(data_place.shape[0]):\n",
    "    cur_location = data_place.loc[i, 'location']\n",
    "    if 'lat' in cur_location and 'lon' in cur_location:\n",
    "        data_place.loc[i, 'lat'] = cur_location['lat']\n",
    "        data_place.loc[i, 'lon'] = cur_location['lon']\n",
    "        \n",
    "data_place = data_place.drop('location', axis=1)\n",
    "data_place = data_place.drop('foursquareCategoryIds', axis=1)\n",
    "data_place = data_place.drop('facebookPlaceId', axis=1)"
   ]
  },
  {
   "cell_type": "code",
   "execution_count": 9,
   "id": "29f98782",
   "metadata": {},
   "outputs": [],
   "source": [
    "# data_pk, data_summary, data_segment, data_place, \n",
    "data_pk.to_csv('main.csv', index=False)\n",
    "data_summary.to_csv('summary.csv', index=False)\n",
    "merged_segment_activity.to_csv('segment.csv', index=False)\n",
    "data_place.to_csv('place.csv', index=False)"
   ]
  },
  {
   "cell_type": "code",
   "execution_count": null,
   "id": "9256aef3",
   "metadata": {},
   "outputs": [],
   "source": []
  }
 ],
 "metadata": {
  "kernelspec": {
   "display_name": "Python 3 (ipykernel)",
   "language": "python",
   "name": "python3"
  },
  "language_info": {
   "codemirror_mode": {
    "name": "ipython",
    "version": 3
   },
   "file_extension": ".py",
   "mimetype": "text/x-python",
   "name": "python",
   "nbconvert_exporter": "python",
   "pygments_lexer": "ipython3",
   "version": "3.8.2"
  }
 },
 "nbformat": 4,
 "nbformat_minor": 5
}
